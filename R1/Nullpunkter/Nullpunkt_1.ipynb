{
 "cells": [
  {
   "cell_type": "markdown",
   "metadata": {},
   "source": [
    "# Nullpunkt, del 1"
   ]
  },
  {
   "cell_type": "markdown",
   "metadata": {},
   "source": [
    "Vi skal finne nullpunktene til funksjonen $f(x) = x^3 - \\frac{9}{2} x^2 + \\frac{7}{2} x + 3 $.\n",
    "\n",
    "Starter med å definere funksjonen."
   ]
  },
  {
   "cell_type": "code",
   "execution_count": 1,
   "metadata": {},
   "outputs": [],
   "source": [
    "def f(x):\n",
    "    y = x**3 - (9/2) * x**2 + (7/2)*x + 3\n",
    "    return y"
   ]
  },
  {
   "cell_type": "markdown",
   "metadata": {},
   "source": [
    "Dette er et tredjegradsplolynom, så vi kan ha minimum ett, maksimalt tre, nullpunkt.\n",
    "> Hvorfor er det slik?\n",
    "\n",
    "For å finne nullpunkt digitalt, er det ofte nødvendig vite _hvor_ programmet skal lete. Ved å først tegne funksjonen, kan vi lese av et intervall der funksjonen har nullpunkt.\n",
    "\n",
    "Vi tegner funksjonen for _x_-verdier som viser \"hele bildet\" - i dette tilfelle alle nullpunktene."
   ]
  },
  {
   "cell_type": "code",
   "execution_count": 5,
   "metadata": {},
   "outputs": [
    {
     "data": {
      "image/png": "[encoded data removed]",
      "text/plain": [
       "<Figure size 432x288 with 1 Axes>"
      ]
     },
     "metadata": {
      "needs_background": "light"
     },
     "output_type": "display_data"
    }
   ],
   "source": [
    "import matplotlib.pyplot as plt\n",
    "\n",
    "x_liste = []\n",
    "y_liste = []\n",
    "\n",
    "x_min = -1\n",
    "x_max = 4\n",
    "\n",
    "x = x_min\n",
    "while x <= x_max:\n",
    "    x_liste.append(   x  )\n",
    "    y_liste.append( f(x) )\n",
    "    \n",
    "    x += 0.1\n",
    "\n",
    "y_min = min(y_liste)\n",
    "y_max = max(y_liste)\n",
    "    \n",
    "plt.plot([x_min, x_max], [0,0], \"k--\") # Tegner x-aksen\n",
    "plt.plot([0,0], [y_min, y_max], \"k--\") # Tegner y-aksen\n",
    "plt.plot(x_liste, y_liste)\n",
    "plt.show()"
   ]
  },
  {
   "cell_type": "markdown",
   "metadata": {},
   "source": [
    "Observerer at funksjonen har et nullpunkt mellom $x=-1$ og $x=0$, og at funksjonsverdien skifter fra negativ til positiv. "
   ]
  },
  {
   "cell_type": "code",
   "execution_count": 13,
   "metadata": {
    "scrolled": true
   },
   "outputs": [
    {
     "name": "stdout",
     "output_type": "stream",
     "text": [
      "Første nullpunkt: x ≈ -0.39999999999999997\n"
     ]
    }
   ],
   "source": [
    "x_start = -1\n",
    "x_slutt = 0\n",
    "x_steg  = 0.3\n",
    "\n",
    "x = x_start\n",
    "while f(x) < 0:\n",
    "    x += x_steg\n",
    "\n",
    "print(\"Første nullpunkt: x ≈ \" + str(x) )"
   ]
  },
  {
   "cell_type": "markdown",
   "metadata": {},
   "source": [
    "## Oppgave 1\n",
    "Beskriv hva koden over gjør."
   ]
  },
  {
   "cell_type": "markdown",
   "metadata": {},
   "source": [
    "Det koden gjør er for å finne når funksjonen møter det første nullpunktet. Den bruker dette med å starte på x = -1 og helt til f(x) vil returnere noe høyere enn 0. Da breaker den ut av loopen og printer ut x, som vi har itteret gjennom og funnet. "
   ]
  },
  {
   "cell_type": "markdown",
   "metadata": {},
   "source": [
    "## Oppgave 2\n",
    "Endre koden over slik at programmet gir en mer nøyaktig _x_-verdi."
   ]
  },
  {
   "cell_type": "code",
   "execution_count": 22,
   "metadata": {},
   "outputs": [
    {
     "name": "stdout",
     "output_type": "stream",
     "text": [
      "Første nullpunkt: x ≈  -0.5\n",
      "Første nullpunkt: x ≈ -0.49999999999999956\n"
     ]
    }
   ],
   "source": [
    "x_start = -1\n",
    "x_slutt = 0\n",
    "x_steg  = 0.001\n",
    "\n",
    "x = x_start\n",
    "while f(x) <= 0:\n",
    "    x += x_steg\n",
    "\n",
    "print(\"Første nullpunkt: x ≈ \", round(x,8))"
   ]
  },
  {
   "cell_type": "markdown",
   "metadata": {},
   "source": [
    "Det jeg gjorde var å øke variabelen `x_steg` til en mindre verdi, slik som at vi ittererer gjennom på en mye mer nøyaktig måte. Dette vil resultere til at `while` funksjonen vår blir mer nøyaktig, siden den vil stoppe nærmere dette punktet.\n",
    "\n",
    "Jeg brukte også den innebygde `round` funksjonen for å runde opp til nærmeste 8ende desimal, som gir oss en nøyaktig men leselig nullpunkt, siden vi ender på eller litt over 0. Aldri helt på null."
   ]
  },
  {
   "cell_type": "markdown",
   "metadata": {},
   "source": [
    "## Oppgave 3\n",
    "Ta to kopier av kodesnutten over, og gjør endringer slik at vi finner de to andre nullpunktene."
   ]
  },
  {
   "cell_type": "code",
   "execution_count": 36,
   "metadata": {},
   "outputs": [],
   "source": [
    "# Andre nullpunkt\n",
    "x_start = -1\n",
    "x_slutt = 2.5\n",
    "x_steg  = 0.01\n",
    "\n",
    "nullpunkt = []\n",
    "x = x_start\n",
    "\n",
    "while x <= x_slutt:\n",
    "    if -0.01 < f(x) < 0.01:\n",
    "        print(round(x, 8))\n",
    "        nullpunkt.append(x)\n",
    "    x += x_steg"
   ]
  },
  {
   "cell_type": "code",
   "execution_count": null,
   "metadata": {},
   "outputs": [],
   "source": [
    "# Tredje nullpunkt"
   ]
  },
  {
   "cell_type": "markdown",
   "metadata": {},
   "source": [
    "## Oppgave 4\n",
    "Bruk nullpunktene til å skrive funksjonsuttrykket på faktorisert form $f(x) = a(x - x_1)(x - x_2)(x - x_3)$."
   ]
  },
  {
   "cell_type": "markdown",
   "metadata": {},
   "source": [
    "Svar:"
   ]
  },
  {
   "cell_type": "markdown",
   "metadata": {},
   "source": [
    "$ f(x) = a(x - x_1)(x - x_2)(x - x_3) $"
   ]
  }
 ],
 "metadata": {
  "kernelspec": {
   "display_name": "Python 3 (ipykernel)",
   "language": "python",
   "name": "python3"
  },
  "language_info": {
   "codemirror_mode": {
    "name": "ipython",
    "version": 3
   },
   "file_extension": ".py",
   "mimetype": "text/x-python",
   "name": "python",
   "nbconvert_exporter": "python",
   "pygments_lexer": "ipython3",
   "version": "3.10.7"
  }
 },
 "nbformat": 4,
 "nbformat_minor": 4
}
